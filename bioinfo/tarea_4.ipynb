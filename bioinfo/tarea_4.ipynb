{
 "cells": [
  {
   "cell_type": "markdown",
   "metadata": {
    "id": "MqvfAVNYmPzK"
   },
   "source": [
    "# Análisis de la precisión obtenida con la app Plantnet para la identificación de especies de plantas"
   ]
  },
  {
   "cell_type": "markdown",
   "metadata": {
    "id": "fpUcipuqmPzY"
   },
   "source": [
    "Creado por: José Francisco Núñez Obando y María Laura Pizarro<br>"
   ]
  },
  {
   "cell_type": "markdown",
   "metadata": {
    "id": "G6wIu_65mPzZ"
   },
   "source": [
    "El siguiente documento corresponde con una evaluación del porcentaje de precisión en la identificación de especies de plantas mediante el uso de la aplicación Plantnet.<br>\n",
    "<br>\n",
    "Para cumplir con este objetivo se descargan una serie de fotografías desde los sitios GBIF y EOL usando sus api's respectivas, las cuales posteriormente se utilizan como objetos de prueba para la identificación de especies en la aplicación de PlantNet que se encuentra en linea, siendo esta la misma que se encuentra en formato de app para android e ios. Al respecto de la puesta a prueba de dicho servicio de identificación, se planteo el uso de la técnica de webscrapping utilizando para ello el webdriver de 'chrome' y la librería de Python llamada Selenium, además de otras librerías que complementan el análisis.<br>\n",
    "<br>En los siguientes apartados se describen los procedimientos y se anotan las partes de código utilizadas para llavar a cabo cada proceso.\n",
    "<br><br>\n",
    "A continuación, algunas de las librerías python utilizadas inicialmente para completar con los primeros procedimientos:"
   ]
  },
  {
   "cell_type": "code",
   "execution_count": 8,
   "metadata": {
    "id": "8lPf-VVYmPzd"
   },
   "outputs": [],
   "source": [
    "import requests\n",
    "import urllib.request\n",
    "from lxml import html, etree\n",
    "import json\n",
    "from pandas.io.json import json_normalize\n",
    "#import squarify\n",
    "import warnings\n",
    "warnings.filterwarnings('ignore')\n",
    "import time\n",
    "import pandas as pd\n",
    "import numpy as np\n",
    "import glob\n",
    "import os\n",
    "import matplotlib.pyplot as plt\n",
    "import matplotlib.image as mpimg\n",
    "from bs4 import BeautifulSoup\n",
    "from fuzzywuzzy import fuzz"
   ]
  },
  {
   "source": [
    "## Descarga de datos usando la API de GBIF"
   ],
   "cell_type": "markdown",
   "metadata": {
    "id": "IavTiZIKmPzf"
   }
  },
  {
   "cell_type": "markdown",
   "metadata": {
    "id": "bRy0WSe-LsWX"
   },
   "source": [
    "En esta sección se procede a realizar la consulta a la API de GBIF en la que únicamente se establecen como parámetros el país y el reino."
   ]
  },
  {
   "cell_type": "code",
   "execution_count": 9,
   "metadata": {
    "id": "KKuV0D-5mPzg"
   },
   "outputs": [],
   "source": [
    "parameters = {\"country\": \"CR\",\n",
    "              \"limit\":300,\n",
    "              \"scientificname\" : \"Plantae\"\n",
    "              }\n",
    "url = \"https://api.gbif.org/v1/occurrence/search?\"\n",
    "\n",
    "q_gbif = requests.request(method=\"get\", url=url, params=parameters)\n",
    "j_gbif = json.loads(q_gbif.text)\n",
    "L = json_normalize(j_gbif['results'])\n",
    "L = L[['kingdom', 'phylum','order', 'family', 'genus', 'species', 'scientificName']]"
   ]
  },
  {
   "cell_type": "markdown",
   "metadata": {
    "id": "zgNpdQY-Mg2b"
   },
   "source": [
    "Una vez se obtienen los resultados de la consulta, se procedio a realizar una selección de 20 muestras aleatorias del total."
   ]
  },
  {
   "cell_type": "code",
   "execution_count": 10,
   "metadata": {
    "colab": {
     "base_uri": "https://localhost:8080/",
     "height": 939
    },
    "id": "jPt2u2JTIZIe",
    "outputId": "cbd9c7d9-5c0b-4dc4-f622-aac91fdc79a7"
   },
   "outputs": [
    {
     "output_type": "execute_result",
     "data": {
      "text/plain": [
       "     kingdom        phylum         order          family          genus  \\\n",
       "189  Plantae  Tracheophyta       Fabales        Fabaceae          Senna   \n",
       "123  Plantae  Tracheophyta  Cucurbitales   Cucurbitaceae      Momordica   \n",
       "185  Plantae  Tracheophyta      Arecales       Arecaceae          Cocos   \n",
       "213  Plantae  Tracheophyta     Asterales      Asteraceae  Sphagneticola   \n",
       "106  Plantae  Tracheophyta  Zingiberales   Heliconiaceae      Heliconia   \n",
       "127  Plantae  Tracheophyta      Lamiales     Acanthaceae     Aphelandra   \n",
       "176  Plantae  Tracheophyta     Piperales      Piperaceae      Peperomia   \n",
       "73   Plantae  Tracheophyta  Malpighiales    Hypericaceae         Vismia   \n",
       "275  Plantae  Tracheophyta      Ericales     Primulaceae        Clavija   \n",
       "242  Plantae  Tracheophyta   Gentianales       Rubiaceae        Hamelia   \n",
       "266  Plantae  Tracheophyta     Solanales  Convolvulaceae        Ipomoea   \n",
       "147  Plantae  Tracheophyta  Zingiberales   Heliconiaceae      Heliconia   \n",
       "299  Plantae  Tracheophyta       Fabales        Fabaceae    Caesalpinia   \n",
       "58   Plantae  Tracheophyta      Lamiales     Acanthaceae      Asystasia   \n",
       "122  Plantae  Tracheophyta  Commelinales   Haemodoraceae      Xiphidium   \n",
       "78   Plantae  Tracheophyta  Zingiberales        Musaceae           Musa   \n",
       "11   Plantae  Tracheophyta   Asparagales     Orchidaceae     Maxillaria   \n",
       "167  Plantae  Tracheophyta     Asterales      Asteraceae  Sphagneticola   \n",
       "220  Plantae  Tracheophyta   Alismatales         Araceae       Caladium   \n",
       "29   Plantae  Tracheophyta      Lamiales    Gesneriaceae       Drymonia   \n",
       "\n",
       "                     species                                  scientificName  \n",
       "189              Senna alata                          Senna alata (L.) Roxb.  \n",
       "123      Momordica charantia                          Momordica charantia L.  \n",
       "185           Cocos nucifera                               Cocos nucifera L.  \n",
       "213  Sphagneticola trilobata             Sphagneticola trilobata (L.) Pruski  \n",
       "106     Heliconia latispatha                     Heliconia latispatha Benth.  \n",
       "127        Aphelandra scabra                    Aphelandra scabra (Vahl) Sm.  \n",
       "176       Peperomia pittieri  Peperomia pittieri C.DC. ex T.Durand & Pittier  \n",
       "73        Vismia macrophylla                        Vismia macrophylla Kunth  \n",
       "275        Clavija biborrana                        Clavija biborrana Oerst.  \n",
       "242           Hamelia patens                            Hamelia patens Jacq.  \n",
       "266          Ipomoea cairica                      Ipomoea cairica (L.) Sweet  \n",
       "147    Heliconia psittacorum                      Heliconia psittacorum L.f.  \n",
       "299  Caesalpinia pulcherrima                Caesalpinia pulcherrima (L.) Sw.  \n",
       "58       Asystasia gangetica            Asystasia gangetica subsp. gangetica  \n",
       "122      Xiphidium caeruleum                       Xiphidium caeruleum Aubl.  \n",
       "78          Musa paradisiaca                             Musa paradisiaca L.  \n",
       "11     Maxillaria umbratilis              Maxillaria umbratilis L.O.Williams  \n",
       "167  Sphagneticola trilobata             Sphagneticola trilobata (L.) Pruski  \n",
       "220         Caladium bicolor                  Caladium bicolor (Aiton) Vent.  \n",
       "29         Drymonia coriacea              Drymonia coriacea (Oerst.) Wiehler  "
      ],
      "text/html": "<div>\n<style scoped>\n    .dataframe tbody tr th:only-of-type {\n        vertical-align: middle;\n    }\n\n    .dataframe tbody tr th {\n        vertical-align: top;\n    }\n\n    .dataframe thead th {\n        text-align: right;\n    }\n</style>\n<table border=\"1\" class=\"dataframe\">\n  <thead>\n    <tr style=\"text-align: right;\">\n      <th></th>\n      <th>kingdom</th>\n      <th>phylum</th>\n      <th>order</th>\n      <th>family</th>\n      <th>genus</th>\n      <th>species</th>\n      <th>scientificName</th>\n    </tr>\n  </thead>\n  <tbody>\n    <tr>\n      <th>189</th>\n      <td>Plantae</td>\n      <td>Tracheophyta</td>\n      <td>Fabales</td>\n      <td>Fabaceae</td>\n      <td>Senna</td>\n      <td>Senna alata</td>\n      <td>Senna alata (L.) Roxb.</td>\n    </tr>\n    <tr>\n      <th>123</th>\n      <td>Plantae</td>\n      <td>Tracheophyta</td>\n      <td>Cucurbitales</td>\n      <td>Cucurbitaceae</td>\n      <td>Momordica</td>\n      <td>Momordica charantia</td>\n      <td>Momordica charantia L.</td>\n    </tr>\n    <tr>\n      <th>185</th>\n      <td>Plantae</td>\n      <td>Tracheophyta</td>\n      <td>Arecales</td>\n      <td>Arecaceae</td>\n      <td>Cocos</td>\n      <td>Cocos nucifera</td>\n      <td>Cocos nucifera L.</td>\n    </tr>\n    <tr>\n      <th>213</th>\n      <td>Plantae</td>\n      <td>Tracheophyta</td>\n      <td>Asterales</td>\n      <td>Asteraceae</td>\n      <td>Sphagneticola</td>\n      <td>Sphagneticola trilobata</td>\n      <td>Sphagneticola trilobata (L.) Pruski</td>\n    </tr>\n    <tr>\n      <th>106</th>\n      <td>Plantae</td>\n      <td>Tracheophyta</td>\n      <td>Zingiberales</td>\n      <td>Heliconiaceae</td>\n      <td>Heliconia</td>\n      <td>Heliconia latispatha</td>\n      <td>Heliconia latispatha Benth.</td>\n    </tr>\n    <tr>\n      <th>127</th>\n      <td>Plantae</td>\n      <td>Tracheophyta</td>\n      <td>Lamiales</td>\n      <td>Acanthaceae</td>\n      <td>Aphelandra</td>\n      <td>Aphelandra scabra</td>\n      <td>Aphelandra scabra (Vahl) Sm.</td>\n    </tr>\n    <tr>\n      <th>176</th>\n      <td>Plantae</td>\n      <td>Tracheophyta</td>\n      <td>Piperales</td>\n      <td>Piperaceae</td>\n      <td>Peperomia</td>\n      <td>Peperomia pittieri</td>\n      <td>Peperomia pittieri C.DC. ex T.Durand &amp; Pittier</td>\n    </tr>\n    <tr>\n      <th>73</th>\n      <td>Plantae</td>\n      <td>Tracheophyta</td>\n      <td>Malpighiales</td>\n      <td>Hypericaceae</td>\n      <td>Vismia</td>\n      <td>Vismia macrophylla</td>\n      <td>Vismia macrophylla Kunth</td>\n    </tr>\n    <tr>\n      <th>275</th>\n      <td>Plantae</td>\n      <td>Tracheophyta</td>\n      <td>Ericales</td>\n      <td>Primulaceae</td>\n      <td>Clavija</td>\n      <td>Clavija biborrana</td>\n      <td>Clavija biborrana Oerst.</td>\n    </tr>\n    <tr>\n      <th>242</th>\n      <td>Plantae</td>\n      <td>Tracheophyta</td>\n      <td>Gentianales</td>\n      <td>Rubiaceae</td>\n      <td>Hamelia</td>\n      <td>Hamelia patens</td>\n      <td>Hamelia patens Jacq.</td>\n    </tr>\n    <tr>\n      <th>266</th>\n      <td>Plantae</td>\n      <td>Tracheophyta</td>\n      <td>Solanales</td>\n      <td>Convolvulaceae</td>\n      <td>Ipomoea</td>\n      <td>Ipomoea cairica</td>\n      <td>Ipomoea cairica (L.) Sweet</td>\n    </tr>\n    <tr>\n      <th>147</th>\n      <td>Plantae</td>\n      <td>Tracheophyta</td>\n      <td>Zingiberales</td>\n      <td>Heliconiaceae</td>\n      <td>Heliconia</td>\n      <td>Heliconia psittacorum</td>\n      <td>Heliconia psittacorum L.f.</td>\n    </tr>\n    <tr>\n      <th>299</th>\n      <td>Plantae</td>\n      <td>Tracheophyta</td>\n      <td>Fabales</td>\n      <td>Fabaceae</td>\n      <td>Caesalpinia</td>\n      <td>Caesalpinia pulcherrima</td>\n      <td>Caesalpinia pulcherrima (L.) Sw.</td>\n    </tr>\n    <tr>\n      <th>58</th>\n      <td>Plantae</td>\n      <td>Tracheophyta</td>\n      <td>Lamiales</td>\n      <td>Acanthaceae</td>\n      <td>Asystasia</td>\n      <td>Asystasia gangetica</td>\n      <td>Asystasia gangetica subsp. gangetica</td>\n    </tr>\n    <tr>\n      <th>122</th>\n      <td>Plantae</td>\n      <td>Tracheophyta</td>\n      <td>Commelinales</td>\n      <td>Haemodoraceae</td>\n      <td>Xiphidium</td>\n      <td>Xiphidium caeruleum</td>\n      <td>Xiphidium caeruleum Aubl.</td>\n    </tr>\n    <tr>\n      <th>78</th>\n      <td>Plantae</td>\n      <td>Tracheophyta</td>\n      <td>Zingiberales</td>\n      <td>Musaceae</td>\n      <td>Musa</td>\n      <td>Musa paradisiaca</td>\n      <td>Musa paradisiaca L.</td>\n    </tr>\n    <tr>\n      <th>11</th>\n      <td>Plantae</td>\n      <td>Tracheophyta</td>\n      <td>Asparagales</td>\n      <td>Orchidaceae</td>\n      <td>Maxillaria</td>\n      <td>Maxillaria umbratilis</td>\n      <td>Maxillaria umbratilis L.O.Williams</td>\n    </tr>\n    <tr>\n      <th>167</th>\n      <td>Plantae</td>\n      <td>Tracheophyta</td>\n      <td>Asterales</td>\n      <td>Asteraceae</td>\n      <td>Sphagneticola</td>\n      <td>Sphagneticola trilobata</td>\n      <td>Sphagneticola trilobata (L.) Pruski</td>\n    </tr>\n    <tr>\n      <th>220</th>\n      <td>Plantae</td>\n      <td>Tracheophyta</td>\n      <td>Alismatales</td>\n      <td>Araceae</td>\n      <td>Caladium</td>\n      <td>Caladium bicolor</td>\n      <td>Caladium bicolor (Aiton) Vent.</td>\n    </tr>\n    <tr>\n      <th>29</th>\n      <td>Plantae</td>\n      <td>Tracheophyta</td>\n      <td>Lamiales</td>\n      <td>Gesneriaceae</td>\n      <td>Drymonia</td>\n      <td>Drymonia coriacea</td>\n      <td>Drymonia coriacea (Oerst.) Wiehler</td>\n    </tr>\n  </tbody>\n</table>\n</div>"
     },
     "metadata": {},
     "execution_count": 10
    }
   ],
   "source": [
    "L2 = L.sample(n=20, random_state=1)\n",
    "L2"
   ]
  },
  {
   "cell_type": "markdown",
   "metadata": {
    "id": "Q5MOHg1RmPzs"
   },
   "source": [
    "## Consulta a la API de Encyclopedia of Life (EOL)"
   ]
  },
  {
   "cell_type": "markdown",
   "metadata": {
    "id": "Sv1yabI7Nc4q"
   },
   "source": [
    "Con el fin de obtener una cantidad de 3 fotos de cada una especie de la muestra, se realiza una consulta a la API de EOL desde la que se obtiene una referencia a una subpagina de la especie correspondiente. En dicha subpágina se consulta de forma automatizada la sección de media en la que se encuentran las imágenes por especie, por lo que para una descarga de las misma se emplea una técnica de web scrapping. Al final se obtiene un dataframe que contiene el nombre de especie y una URL de las fotografías asociadas a esta. "
   ]
  },
  {
   "cell_type": "code",
   "execution_count": 11,
   "metadata": {
    "id": "ce8I1Fk4dVUQ"
   },
   "outputs": [],
   "source": [
    "def eol (data):\n",
    "  L3=data.groupby(['species'])['species'].head(1).reset_index(drop=True)\n",
    "  url_eol = \"http://eol.org/api/search/1.0.json?\"\n",
    "  df = pd.DataFrame(columns=('specie', 'url'))\n",
    "\n",
    "  species_count=0\n",
    "  rows_list = []\n",
    "  for i in L3:\n",
    "      #EOL DATA\n",
    "      parameters = {\"q\": i}\n",
    "      q_eol = requests.request(method=\"get\", url=url_eol, params=parameters)\n",
    "      j_eol = json.loads(q_eol.text)\n",
    "      \n",
    "      #Se filtran los datos que tengan mas de 3 resultados \n",
    "      jd_eol = json_normalize(j_eol['results'])\n",
    "      rows_temp = []  \n",
    "      #Se recorren los links de los resultados y se evalua si el link devuelve informacion\n",
    "      for link in j_eol['results']:\n",
    "          r = requests.get(link['link']+'/media')\n",
    "          html = r.text\n",
    "          soup = BeautifulSoup(html, 'lxml')\n",
    "          links = soup.find_all('div', {'class': 'js-grid-modal-toggle uk-card-media-top uk-inline-clip uk-transition-toggle'})\n",
    "          \n",
    "          for y in links:\n",
    "              dict1 = {}\n",
    "              dict1.update({'Specie':i, 'Url':y.find('img')['src']})\n",
    "              \n",
    "              rows_temp.append(dict1) \n",
    "              if(len(rows_temp) == 3):\n",
    "                  species_count+=1\n",
    "                  rows_list += rows_temp\n",
    "                  break\n",
    "          if(len(rows_temp) == 3):\n",
    "              break\n",
    "      #Se detiene el ciclo cuando ya se hayan obtenido 3 imagenes de 20 especies\n",
    "      if (species_count == 21):\n",
    "          break\n",
    "\n",
    "  df_eol = pd.DataFrame(rows_list)\n",
    "  return df_eol"
   ]
  },
  {
   "source": [
    "La anterior función se aplica la lista de especies obtenida de GBIF y se imprime para conocer los resultados."
   ],
   "cell_type": "markdown",
   "metadata": {}
  },
  {
   "cell_type": "code",
   "execution_count": 12,
   "metadata": {
    "id": "vCQsQgdq1ax5"
   },
   "outputs": [],
   "source": [
    "df_eol0 = eol(L2)"
   ]
  },
  {
   "cell_type": "code",
   "execution_count": 13,
   "metadata": {
    "colab": {
     "base_uri": "https://localhost:8080/",
     "height": 202
    },
    "id": "xREzj4Kmz3cm",
    "outputId": "5486e51f-e5e6-4c48-e7f1-9f655967f972"
   },
   "outputs": [
    {
     "output_type": "execute_result",
     "data": {
      "text/plain": [
       "                Specie                                                Url\n",
       "0          Senna alata  https://content.eol.org/data/media/7e/e2/22/54...\n",
       "1          Senna alata  https://content.eol.org/data/media/7e/e2/27/54...\n",
       "2          Senna alata  https://content.eol.org/data/media/7e/e3/ec/54...\n",
       "3  Momordica charantia  https://content.eol.org/data/media/80/d1/b1/54...\n",
       "4  Momordica charantia  https://content.eol.org/data/media/80/d1/b4/54..."
      ],
      "text/html": "<div>\n<style scoped>\n    .dataframe tbody tr th:only-of-type {\n        vertical-align: middle;\n    }\n\n    .dataframe tbody tr th {\n        vertical-align: top;\n    }\n\n    .dataframe thead th {\n        text-align: right;\n    }\n</style>\n<table border=\"1\" class=\"dataframe\">\n  <thead>\n    <tr style=\"text-align: right;\">\n      <th></th>\n      <th>Specie</th>\n      <th>Url</th>\n    </tr>\n  </thead>\n  <tbody>\n    <tr>\n      <th>0</th>\n      <td>Senna alata</td>\n      <td>https://content.eol.org/data/media/7e/e2/22/54...</td>\n    </tr>\n    <tr>\n      <th>1</th>\n      <td>Senna alata</td>\n      <td>https://content.eol.org/data/media/7e/e2/27/54...</td>\n    </tr>\n    <tr>\n      <th>2</th>\n      <td>Senna alata</td>\n      <td>https://content.eol.org/data/media/7e/e3/ec/54...</td>\n    </tr>\n    <tr>\n      <th>3</th>\n      <td>Momordica charantia</td>\n      <td>https://content.eol.org/data/media/80/d1/b1/54...</td>\n    </tr>\n    <tr>\n      <th>4</th>\n      <td>Momordica charantia</td>\n      <td>https://content.eol.org/data/media/80/d1/b4/54...</td>\n    </tr>\n  </tbody>\n</table>\n</div>"
     },
     "metadata": {},
     "execution_count": 13
    }
   ],
   "source": [
    "df_eol0.head()"
   ]
  },
  {
   "source": [
    "Con el fin de conocer cuantas de las especies no fue posible obtener datos desde EOL se realiza la siguiente operación."
   ],
   "cell_type": "markdown",
   "metadata": {}
  },
  {
   "cell_type": "code",
   "execution_count": 14,
   "metadata": {
    "colab": {
     "base_uri": "https://localhost:8080/"
    },
    "id": "IBoA5oaISSVI",
    "outputId": "d29673ea-9103-4705-89c6-3c5e34e48592"
   },
   "outputs": [
    {
     "output_type": "stream",
     "name": "stdout",
     "text": [
      "La cantidad de especies sin foto son:  3.0\n"
     ]
    }
   ],
   "source": [
    "print('La cantidad de especies sin foto son: ',20-((df_eol0.Specie.value_counts().sum())/3))"
   ]
  },
  {
   "source": [
    "Con el dato de la cantidad faltantes, se aplica la extracción de 3 especies del total del dataframe obtenido de GBIF."
   ],
   "cell_type": "markdown",
   "metadata": {}
  },
  {
   "cell_type": "code",
   "execution_count": 15,
   "metadata": {
    "colab": {
     "base_uri": "https://localhost:8080/",
     "height": 193
    },
    "id": "ys0G9B0nSIqu",
    "outputId": "26a119f1-d27d-460d-9acd-0323912ef6fc"
   },
   "outputs": [
    {
     "output_type": "execute_result",
     "data": {
      "text/plain": [
       "     kingdom        phylum        order       family         genus  \\\n",
       "239  Plantae  Tracheophyta  Gentianales  Apocynaceae  Aspidosperma   \n",
       "250  Plantae  Tracheophyta      Fabales     Fabaceae        Andira   \n",
       "233  Plantae  Tracheophyta  Gentianales    Rubiaceae     Alibertia   \n",
       "\n",
       "                     species                               scientificName  \n",
       "239  Aspidosperma spruceanum  Aspidosperma spruceanum Benth. ex Müll.Arg.  \n",
       "250           Andira inermis                Andira inermis (W.Wright) DC.  \n",
       "233         Alibertia edulis      Alibertia edulis (Rich.) A.Rich. ex DC.  "
      ],
      "text/html": "<div>\n<style scoped>\n    .dataframe tbody tr th:only-of-type {\n        vertical-align: middle;\n    }\n\n    .dataframe tbody tr th {\n        vertical-align: top;\n    }\n\n    .dataframe thead th {\n        text-align: right;\n    }\n</style>\n<table border=\"1\" class=\"dataframe\">\n  <thead>\n    <tr style=\"text-align: right;\">\n      <th></th>\n      <th>kingdom</th>\n      <th>phylum</th>\n      <th>order</th>\n      <th>family</th>\n      <th>genus</th>\n      <th>species</th>\n      <th>scientificName</th>\n    </tr>\n  </thead>\n  <tbody>\n    <tr>\n      <th>239</th>\n      <td>Plantae</td>\n      <td>Tracheophyta</td>\n      <td>Gentianales</td>\n      <td>Apocynaceae</td>\n      <td>Aspidosperma</td>\n      <td>Aspidosperma spruceanum</td>\n      <td>Aspidosperma spruceanum Benth. ex Müll.Arg.</td>\n    </tr>\n    <tr>\n      <th>250</th>\n      <td>Plantae</td>\n      <td>Tracheophyta</td>\n      <td>Fabales</td>\n      <td>Fabaceae</td>\n      <td>Andira</td>\n      <td>Andira inermis</td>\n      <td>Andira inermis (W.Wright) DC.</td>\n    </tr>\n    <tr>\n      <th>233</th>\n      <td>Plantae</td>\n      <td>Tracheophyta</td>\n      <td>Gentianales</td>\n      <td>Rubiaceae</td>\n      <td>Alibertia</td>\n      <td>Alibertia edulis</td>\n      <td>Alibertia edulis (Rich.) A.Rich. ex DC.</td>\n    </tr>\n  </tbody>\n</table>\n</div>"
     },
     "metadata": {},
     "execution_count": 15
    }
   ],
   "source": [
    "L2_1 = L.sample(3, replace=True)\n",
    "L2_1"
   ]
  },
  {
   "cell_type": "markdown",
   "metadata": {
    "id": "ApulH6DAZWnm"
   },
   "source": [
    "Y con ello, se realiza el checkeo de especies entre listas para ver que las últimas no esten incluidas en la primera lista a la que se le aplico la función EOL."
   ]
  },
  {
   "cell_type": "code",
   "execution_count": 16,
   "metadata": {
    "colab": {
     "base_uri": "https://localhost:8080/"
    },
    "id": "d8CPOkHxVgUD",
    "outputId": "0f54a8e6-f63a-4733-99f5-d686f085bf30"
   },
   "outputs": [
    {
     "output_type": "stream",
     "name": "stdout",
     "text": [
      "Las listas no contiene especies iguales.\n"
     ]
    }
   ],
   "source": [
    "spec1 = list(df_eol0['Specie'].unique())\n",
    "spec2 = list(L2_1.species.unique())\n",
    "\n",
    "check =  any(item in spec2 for item in spec1)\n",
    " \n",
    "if check is True:\n",
    "    print(\"La lista si contiene algunas especies de la primera lista\")   \n",
    "else :\n",
    "    print(\"Las listas no contiene especies iguales.\")"
   ]
  },
  {
   "source": [
    "El resultado anterior nos da una luz verde para realizar la busqueda de fotografías en EOL para la segunda lista."
   ],
   "cell_type": "markdown",
   "metadata": {}
  },
  {
   "cell_type": "code",
   "execution_count": 17,
   "metadata": {
    "id": "uGVRMz5G0aSs"
   },
   "outputs": [],
   "source": [
    "df_eol1 = eol(L2_1)"
   ]
  },
  {
   "cell_type": "code",
   "execution_count": 21,
   "metadata": {
    "colab": {
     "base_uri": "https://localhost:8080/",
     "height": 325
    },
    "id": "G1PfpI-T2WpQ",
    "outputId": "5a6c52fd-5a22-4abb-dab4-07c17466f77c"
   },
   "outputs": [
    {
     "data": {
      "text/html": [
       "<div>\n",
       "<style scoped>\n",
       "    .dataframe tbody tr th:only-of-type {\n",
       "        vertical-align: middle;\n",
       "    }\n",
       "\n",
       "    .dataframe tbody tr th {\n",
       "        vertical-align: top;\n",
       "    }\n",
       "\n",
       "    .dataframe thead th {\n",
       "        text-align: right;\n",
       "    }\n",
       "</style>\n",
       "<table border=\"1\" class=\"dataframe\">\n",
       "  <thead>\n",
       "    <tr style=\"text-align: right;\">\n",
       "      <th></th>\n",
       "      <th>Specie</th>\n",
       "      <th>Url</th>\n",
       "    </tr>\n",
       "  </thead>\n",
       "  <tbody>\n",
       "    <tr>\n",
       "      <td>0</td>\n",
       "      <td>Bromelia pinguin</td>\n",
       "      <td>https://content.eol.org/data/media/61/7e/d6/50...</td>\n",
       "    </tr>\n",
       "    <tr>\n",
       "      <td>1</td>\n",
       "      <td>Bromelia pinguin</td>\n",
       "      <td>https://content.eol.org/data/media/61/7e/d6/50...</td>\n",
       "    </tr>\n",
       "    <tr>\n",
       "      <td>2</td>\n",
       "      <td>Bromelia pinguin</td>\n",
       "      <td>https://content.eol.org/data/media/61/7e/d6/50...</td>\n",
       "    </tr>\n",
       "    <tr>\n",
       "      <td>3</td>\n",
       "      <td>Tridax procumbens</td>\n",
       "      <td>https://content.eol.org/data/media/7f/82/65/54...</td>\n",
       "    </tr>\n",
       "    <tr>\n",
       "      <td>4</td>\n",
       "      <td>Tridax procumbens</td>\n",
       "      <td>https://content.eol.org/data/media/7f/82/65/54...</td>\n",
       "    </tr>\n",
       "    <tr>\n",
       "      <td>5</td>\n",
       "      <td>Tridax procumbens</td>\n",
       "      <td>https://content.eol.org/data/media/7f/82/65/54...</td>\n",
       "    </tr>\n",
       "    <tr>\n",
       "      <td>6</td>\n",
       "      <td>Tithonia diversifolia</td>\n",
       "      <td>https://content.eol.org/data/media/80/5e/ff/54...</td>\n",
       "    </tr>\n",
       "    <tr>\n",
       "      <td>7</td>\n",
       "      <td>Tithonia diversifolia</td>\n",
       "      <td>https://content.eol.org/data/media/80/5e/ff/54...</td>\n",
       "    </tr>\n",
       "    <tr>\n",
       "      <td>8</td>\n",
       "      <td>Tithonia diversifolia</td>\n",
       "      <td>https://content.eol.org/data/media/80/5e/ff/54...</td>\n",
       "    </tr>\n",
       "  </tbody>\n",
       "</table>\n",
       "</div>"
      ],
      "text/plain": [
       "                  Specie                                                Url\n",
       "0       Bromelia pinguin  https://content.eol.org/data/media/61/7e/d6/50...\n",
       "1       Bromelia pinguin  https://content.eol.org/data/media/61/7e/d6/50...\n",
       "2       Bromelia pinguin  https://content.eol.org/data/media/61/7e/d6/50...\n",
       "3      Tridax procumbens  https://content.eol.org/data/media/7f/82/65/54...\n",
       "4      Tridax procumbens  https://content.eol.org/data/media/7f/82/65/54...\n",
       "5      Tridax procumbens  https://content.eol.org/data/media/7f/82/65/54...\n",
       "6  Tithonia diversifolia  https://content.eol.org/data/media/80/5e/ff/54...\n",
       "7  Tithonia diversifolia  https://content.eol.org/data/media/80/5e/ff/54...\n",
       "8  Tithonia diversifolia  https://content.eol.org/data/media/80/5e/ff/54..."
      ]
     },
     "execution_count": 21,
     "metadata": {},
     "output_type": "execute_result"
    }
   ],
   "source": [
    "df_eol1"
   ]
  },
  {
   "source": [
    "Con el resultado anterior se procede a la unión entre el dataframe 1 y 2 de la obtención desde EOL."
   ],
   "cell_type": "markdown",
   "metadata": {}
  },
  {
   "cell_type": "code",
   "execution_count": 18,
   "metadata": {
    "colab": {
     "base_uri": "https://localhost:8080/"
    },
    "id": "z6_MZjz20ywE",
    "outputId": "c61a2d86-a0ef-42c2-92a1-d45e6d49b0aa"
   },
   "outputs": [
    {
     "output_type": "stream",
     "name": "stdout",
     "text": [
      "La cantidad de fotos total por especies es:  60\n"
     ]
    }
   ],
   "source": [
    "df_eol_f = df_eol0.append(df_eol1)\n",
    "print('La cantidad de fotos total por especies es: ', df_eol_f['Url'].value_counts().sum())"
   ]
  },
  {
   "source": [
    "El resultado mostrado nos indica que se han conseguido la cantidad de 60 fotografías en total para las 20 especies."
   ],
   "cell_type": "markdown",
   "metadata": {}
  },
  {
   "cell_type": "markdown",
   "metadata": {
    "id": "FJMEpl_h3jP8"
   },
   "source": [
    "De modo tal que se procede a la descarga de estas para poderlas analizar en la plataforma de identificación de especies de PlantNet."
   ]
  },
  {
   "cell_type": "code",
   "execution_count": 19,
   "metadata": {
    "colab": {
     "base_uri": "https://localhost:8080/"
    },
    "id": "FHiTLTE1mPzr",
    "outputId": "a1332ccf-6707-4a69-cdff-bc3cfdd24f2f"
   },
   "outputs": [
    {
     "output_type": "stream",
     "name": "stdout",
     "text": [
      "La cantidad de imagenes descargadas son:  60\n"
     ]
    }
   ],
   "source": [
    "count = 0\n",
    "for name, url in zip(df_eol_f['Specie'], df_eol_f['Url']):\n",
    "    n = os.path.exists(\"./imagenes/\"+name+'.jpg')\n",
    "    if n:\n",
    "        count +=1\n",
    "        if (count < 3):\n",
    "            urllib.request.urlretrieve(str(url), \"./imagenes/\"+name+'_'+str(count)+\".jpg\")\n",
    "    else:\n",
    "        count = 0\n",
    "        urllib.request.urlretrieve(str(url), \"./imagenes/\"+name+\".jpg\")\n",
    "\n",
    "file_list = glob.glob(os.path.join(os.getcwd(), \"./imagenes/\", \"*.jpg\"))\n",
    "print(\"La cantidad de imagenes descargadas son: \",len(file_list))"
   ]
  },
  {
   "cell_type": "markdown",
   "metadata": {
    "id": "6jzTuyyB77t0"
   },
   "source": [
    "A través del siguiente Link se pueden visualizar las fotografias: [fotos de especies](https://drive.google.com/drive/folders/15Dz600K7zcRMZZQjNh59W8r4UVhimpBu?usp=sharing)"
   ]
  },
  {
   "cell_type": "markdown",
   "metadata": {
    "id": "aQAxdZWomPzu"
   },
   "source": [
    "## Prueba del identificador de especies de Plantnet"
   ]
  },
  {
   "cell_type": "markdown",
   "metadata": {
    "id": "Q0UMw4hOmPz4"
   },
   "source": [
    "En las siguientes líneas de código se realizan una serie de procesos automatizados que corresponden con la técnica de webscrapping los cuales corresponden con ejecución del webdriver en cuyo caso abre el GoogleChrome, posteriormente se busca el sitio web de plantnet que corresponde con la app de identificación y, en este sitio se utiliza el boton de subida de imagenes para su respectiva identificación, con esto se obtiene un resultado del cual únicamente se copia la información de la primera fila, siendo este el resultado top de la lista, y con el que se crea un dataframe que incluye como columnas el nombre del archivo evaluado, la nombre científico, la familia, el nombre común y el porcentaje de precisión que se obtuvo con la identificación que realiza la app.<br>"
   ]
  },
  {
   "cell_type": "markdown",
   "metadata": {
    "id": "X9Qfr3ekmPzw"
   },
   "source": [
    "A continuación, una lista de las librerías utilizadas en esta seccion:"
   ]
  },
  {
   "cell_type": "code",
   "execution_count": 22,
   "metadata": {
    "id": "re6g1zPemPzx"
   },
   "outputs": [],
   "source": [
    "#URL de descarga del webdriver: https://chromedriver.chromium.org/\n",
    "\n",
    "#Se cargan las librerias respectivas\n",
    "from selenium import webdriver\n",
    "from selenium.webdriver.support.ui import WebDriverWait\n",
    "from selenium.webdriver.support import expected_conditions as EC\n",
    "from selenium.webdriver.common.by import By\n",
    "from selenium.common.exceptions import TimeoutException\n",
    "options = webdriver.ChromeOptions()\n",
    "options.add_argument('--headless')\n",
    "options.add_argument('--no-sandbox')\n",
    "options.add_argument('--disable-dev-shm-usage')\n",
    "wd = webdriver.Chrome(options=options)\n"
   ]
  },
  {
   "cell_type": "code",
   "execution_count": 55,
   "metadata": {
    "id": "GjpdbPcYmPz6"
   },
   "outputs": [
    {
     "output_type": "stream",
     "name": "stdout",
     "text": [
      "Termino la identificacion de fotos en la app de PlantNet\n"
     ]
    }
   ],
   "source": [
    "#Se ejecuta el webdriver para chrome\n",
    "wd = webdriver.Chrome(executable_path=\"chromedriver.exe\")\n",
    "wd.implicitly_wait(0.5)\n",
    "wd.maximize_window()\n",
    "\n",
    "#Se especifica la pagina web\n",
    "wd.get(\"https://identify.plantnet.org/\")\n",
    "\n",
    "#Identificar el elemento donde cargar la foto\n",
    "s = wd.find_element_by_xpath(\"//input[@type='file']\")\n",
    "\n",
    "#Se crea un dataset con los datos obtenidos\n",
    "fname = list()\n",
    "nsc = list()\n",
    "fam = list()\n",
    "ncom = list()\n",
    "prec = list()\n",
    "\n",
    "# Procedimiento para enviar las fotografias a la app y del resultado arrojado se agrega a listas los diversos datos\n",
    "for i in range(0, len(file_list)):\n",
    "    s.send_keys(str(file_list[i]))\n",
    "    fname.append(os.path.basename(file_list[i]))\n",
    "    try:\n",
    "      text_plant = WebDriverWait(wd, 30)\\\n",
    "        .until(EC.visibility_of_element_located((By.XPATH, '/html/body/div[2]/div[1]/div/div/div/div[1]/div[1]/div')))\n",
    "    except TimeoutException:\n",
    "        nsc.append(\"ND\")\n",
    "        fam.append(\"ND\")\n",
    "        ncom.append(\"ND\")\n",
    "        prec.append(\"0%\")\n",
    "        continue\n",
    "    text_plant = text_plant.text\n",
    "    text_plant = text_plant.split('\\n')\n",
    "    nsc.append(text_plant[0])\n",
    "    fam.append(text_plant[1])\n",
    "    if(len(text_plant) == 4):\n",
    "        ncom.append(text_plant[2])\n",
    "    else:\n",
    "        ncom.append(\"ND\")\n",
    "    prec.append(text_plant[-1])\n",
    "print(\"Termino la identificacion de fotos en la app de PlantNet\")\n",
    "wd.quit()"
   ]
  },
  {
   "cell_type": "markdown",
   "metadata": {
    "id": "djqEGKYzmPz7"
   },
   "source": [
    "A partir del procedimiento anterior se construye una tabla en la que se agregan los nombres de las fotografías evaluadas, las cuales poseen como nombre aquel extraido de la consulta a GBIF y EOL, además de algunos de los resultados obtenidos con la evaluación realizada en PlantNet, dentro de los que figuran: el nombre científico, Familia, Nombre común y  Precisión top obtenida con la identificación de la especie. A esta tabla se agregan otras columnas que corresponden con Ratio y Similitud, las cuales respectivamente corresponden con un cálculo de comparación entre el nombre de la fotografía y el nombre científico dado por PlantNet y, a partir de este, una columna que asigna un 1 a la mayor similitud obtenida en la comparación y a la de menor un 0 y para ello se establecio como 70 el límite Ratio entre la comparación, esto después de evaluar en promedio los diferentes rangos del ratio así como la comparación. <br>"
   ]
  },
  {
   "cell_type": "code",
   "execution_count": 65,
   "metadata": {},
   "outputs": [],
   "source": [
    "df = pd.DataFrame({'Foto': fname,'Nombre_cientifico': nsc, 'Familia': fam, 'Nombre_comun': ncom, 'Precision':prec})\n",
    "df['Precision'] = [float(v.replace('%','').strip()) for v in df.Precision]\n",
    "df['Ratio'] = df.apply(lambda x: fuzz.partial_ratio(x['Foto'], x['Nombre_cientifico']), axis=1)\n",
    "df['Similitud'] = np.where(df['Ratio'] >= 70, 1, 0)"
   ]
  },
  {
   "source": [
    "La tabla resultante es la siguiente:"
   ],
   "cell_type": "markdown",
   "metadata": {}
  },
  {
   "cell_type": "code",
   "execution_count": 66,
   "metadata": {
    "id": "Lck7KPvUmPz8",
    "outputId": "6aaa4030-ca48-4cb6-80fa-54f5e1de3ea2"
   },
   "outputs": [
    {
     "output_type": "execute_result",
     "data": {
      "text/plain": [
       "                             Foto  \\\n",
       "0            Alibertia edulis.jpg   \n",
       "1          Alibertia edulis_1.jpg   \n",
       "2          Alibertia edulis_2.jpg   \n",
       "3              Andira inermis.jpg   \n",
       "4            Andira inermis_1.jpg   \n",
       "5            Andira inermis_2.jpg   \n",
       "6           Aphelandra scabra.jpg   \n",
       "7         Aphelandra scabra_1.jpg   \n",
       "8         Aphelandra scabra_2.jpg   \n",
       "9     Aspidosperma spruceanum.jpg   \n",
       "10  Aspidosperma spruceanum_1.jpg   \n",
       "11  Aspidosperma spruceanum_2.jpg   \n",
       "12        Asystasia gangetica.jpg   \n",
       "13      Asystasia gangetica_1.jpg   \n",
       "14      Asystasia gangetica_2.jpg   \n",
       "15    Caesalpinia pulcherrima.jpg   \n",
       "16  Caesalpinia pulcherrima_1.jpg   \n",
       "17  Caesalpinia pulcherrima_2.jpg   \n",
       "18           Caladium bicolor.jpg   \n",
       "19         Caladium bicolor_1.jpg   \n",
       "20         Caladium bicolor_2.jpg   \n",
       "21          Clavija biborrana.jpg   \n",
       "22        Clavija biborrana_1.jpg   \n",
       "23        Clavija biborrana_2.jpg   \n",
       "24             Cocos nucifera.jpg   \n",
       "25           Cocos nucifera_1.jpg   \n",
       "26           Cocos nucifera_2.jpg   \n",
       "27          Drymonia coriacea.jpg   \n",
       "28        Drymonia coriacea_1.jpg   \n",
       "29        Drymonia coriacea_2.jpg   \n",
       "30             Hamelia patens.jpg   \n",
       "31           Hamelia patens_1.jpg   \n",
       "32           Hamelia patens_2.jpg   \n",
       "33       Heliconia latispatha.jpg   \n",
       "34     Heliconia latispatha_1.jpg   \n",
       "35     Heliconia latispatha_2.jpg   \n",
       "36      Heliconia psittacorum.jpg   \n",
       "37    Heliconia psittacorum_1.jpg   \n",
       "38    Heliconia psittacorum_2.jpg   \n",
       "39            Ipomoea cairica.jpg   \n",
       "40          Ipomoea cairica_1.jpg   \n",
       "41          Ipomoea cairica_2.jpg   \n",
       "42        Momordica charantia.jpg   \n",
       "43      Momordica charantia_1.jpg   \n",
       "44      Momordica charantia_2.jpg   \n",
       "45           Musa paradisiaca.jpg   \n",
       "46         Musa paradisiaca_1.jpg   \n",
       "47         Musa paradisiaca_2.jpg   \n",
       "48                Senna alata.jpg   \n",
       "49              Senna alata_1.jpg   \n",
       "50              Senna alata_2.jpg   \n",
       "51    Sphagneticola trilobata.jpg   \n",
       "52  Sphagneticola trilobata_1.jpg   \n",
       "53  Sphagneticola trilobata_2.jpg   \n",
       "54         Vismia macrophylla.jpg   \n",
       "55       Vismia macrophylla_1.jpg   \n",
       "56       Vismia macrophylla_2.jpg   \n",
       "57        Xiphidium caeruleum.jpg   \n",
       "58      Xiphidium caeruleum_1.jpg   \n",
       "59      Xiphidium caeruleum_2.jpg   \n",
       "\n",
       "                                  Nombre_cientifico           Familia  \\\n",
       "0        Psidium friedrichsthalianum (O.Berg) Nied.         Myrtaceae   \n",
       "1                   Tabernaemontana pandacaqui Lam.       Apocynaceae   \n",
       "2                       Epimedium brevicornu Maxim.     Berberidaceae   \n",
       "3                     Machaerium biovulatum Micheli       Leguminosae   \n",
       "4                   Meliosma pinnata (Roxb.) Maxim.         Sabiaceae   \n",
       "5             Lomariopsis japurensis (Mart.) J. Sm.  Lomariopsidaceae   \n",
       "6                        Rhagodia parabolica R. Br.     Amaranthaceae   \n",
       "7                      Aphelandra scabra (Vahl) Sm.       Acanthaceae   \n",
       "8                      Aphelandra scabra (Vahl) Sm.       Acanthaceae   \n",
       "9                             Acacia mangium Willd.       Leguminosae   \n",
       "10       Pouteria sapota (Jacq.) H.E.Moore & Stearn        Sapotaceae   \n",
       "11       Pouteria sapota (Jacq.) H.E.Moore & Stearn        Sapotaceae   \n",
       "12              Asystasia gangetica (L.) T.Anderson       Acanthaceae   \n",
       "13              Asystasia gangetica (L.) T.Anderson       Acanthaceae   \n",
       "14                          Brunfelsia americana L.        Solanaceae   \n",
       "15                 Caesalpinia pulcherrima (L.) Sw.       Leguminosae   \n",
       "16                      Habenaria rhodocheila Hance       Orchidaceae   \n",
       "17                 Caesalpinia pulcherrima (L.) Sw.       Leguminosae   \n",
       "18                   Caladium bicolor (Aiton) Vent.           Araceae   \n",
       "19                             Smilax pumila Walter       Smilacaceae   \n",
       "20                Caladium lindenii (André) Madison           Araceae   \n",
       "21                         Clavija biborrana Oerst.       Primulaceae   \n",
       "22                         Vantanea parviflora Lam.       Humiriaceae   \n",
       "23                  Garcinia madruno (Kunth) Hammel        Clusiaceae   \n",
       "24                                Cocos nucifera L.         Arecaceae   \n",
       "25                                Cocos nucifera L.         Arecaceae   \n",
       "26                                               ND                ND   \n",
       "27     Drymonia coriacea (Oerst. ex Hanst.) Wiehler      Gesneriaceae   \n",
       "28                             Streblus asper Lour.          Moraceae   \n",
       "29                   Drymonia alloplectoides Hanst.      Gesneriaceae   \n",
       "30                             Hamelia patens Jacq.         Rubiaceae   \n",
       "31                             Hamelia patens Jacq.         Rubiaceae   \n",
       "32                             Hamelia patens Jacq.         Rubiaceae   \n",
       "33                      Heliconia latispatha Benth.     Heliconiaceae   \n",
       "34                      Heliconia latispatha Benth.     Heliconiaceae   \n",
       "35                      Heliconia latispatha Benth.     Heliconiaceae   \n",
       "36                      Canna tuerckheimii Kraenzl.         Cannaceae   \n",
       "37                       Heliconia densiflora Verl.     Heliconiaceae   \n",
       "38                           Heliconia hirsuta L.f.     Heliconiaceae   \n",
       "39                       Ipomoea cairica (L.) Sweet    Convolvulaceae   \n",
       "40                       Ipomoea cairica (L.) Sweet    Convolvulaceae   \n",
       "41                          Ipomoea sagittata Poir.    Convolvulaceae   \n",
       "42                           Momordica balsamina L.     Cucurbitaceae   \n",
       "43                           Momordica balsamina L.     Cucurbitaceae   \n",
       "44               Anthyllis alpestris (Schult.) Kit.       Leguminosae   \n",
       "45          Tecophilaea violiflora Bertero ex Colla   Tecophilaeaceae   \n",
       "46          Arthropodium cirrhatum (G.Forst.) R.Br.      Asparagaceae   \n",
       "47                                Musa ornata Roxb.          Musaceae   \n",
       "48        Parkinsonia praecox (Ruiz & Pav.) Hawkins       Leguminosae   \n",
       "49                            Phyllanthus niruri L.    Phyllanthaceae   \n",
       "50                           Senna alata (L.) Roxb.       Leguminosae   \n",
       "51              Sphagneticola trilobata (L.) Pruski        Compositae   \n",
       "52              Sphagneticola trilobata (L.) Pruski        Compositae   \n",
       "53              Sphagneticola trilobata (L.) Pruski        Compositae   \n",
       "54  Rhopalostylis baueri (Hook.f.) H.Wendl. & Drude         Arecaceae   \n",
       "55                       Juglans mandshurica Maxim.      Juglandaceae   \n",
       "56                         Vismia macrophylla Kunth      Hypericaceae   \n",
       "57                                               ND                ND   \n",
       "58                        Xiphidium caeruleum Aubl.     Haemodoraceae   \n",
       "59                        Xiphidium caeruleum Aubl.     Haemodoraceae   \n",
       "\n",
       "               Nombre_comun  Precision  Ratio  Similitud  \n",
       "0         Costa Rican guava       4.30     39          0  \n",
       "1                   Dogbane       4.22     33          0  \n",
       "2                        ND       1.93     27          0  \n",
       "3                        ND       4.35     33          0  \n",
       "4                        ND       5.42     30          0  \n",
       "5                        ND      13.02     25          0  \n",
       "6                        ND       4.67     42          0  \n",
       "7                        ND      17.18     74          1  \n",
       "8                        ND       4.07     74          1  \n",
       "9              Black wattle       1.13     38          0  \n",
       "10             Mamey sapote      20.03     31          0  \n",
       "11             Mamey sapote       9.16     31          0  \n",
       "12           Chinese violet      94.63     87          1  \n",
       "13           Chinese violet      16.93     80          1  \n",
       "14        Lady-of-the-night      26.47     43          0  \n",
       "15          Dwarf poinciana      24.89     89          1  \n",
       "16            Little Dragon      27.09     41          0  \n",
       "17          Dwarf poinciana      26.32     83          1  \n",
       "18           Heart-of-Jesus      40.57     80          1  \n",
       "19        Sarsaparilla-vine       6.15     35          0  \n",
       "20              Indian-kale      10.82     45          0  \n",
       "21                       ND      56.39     81          1  \n",
       "22                       ND      13.63     37          0  \n",
       "23    Lemon Drop Mangosteen      32.59     26          0  \n",
       "24                  Coconut      41.83     88          1  \n",
       "25                  Coconut      10.78     88          1  \n",
       "26                       ND       0.00      0          0  \n",
       "27                       ND      18.32     81          1  \n",
       "28       Siamese rough-bush       3.44     24          0  \n",
       "29                       ND      22.66     57          0  \n",
       "30                  Redhead      98.14     78          1  \n",
       "31                  Redhead      41.15     75          1  \n",
       "32                  Redhead      34.06     75          1  \n",
       "33     Expanded lobsterclaw      38.72     83          1  \n",
       "34     Expanded lobsterclaw      26.75     77          1  \n",
       "35     Expanded lobsterclaw      62.47     77          1  \n",
       "36              Maraca roja       6.42     24          0  \n",
       "37                       ND      18.38     58          0  \n",
       "38                       ND      59.34     59          0  \n",
       "39         Railroad-creeper      24.04     84          1  \n",
       "40         Railroad-creeper      19.69     76          1  \n",
       "41  Saltmarsh morning-glory      11.76     52          0  \n",
       "42             Balsam-apple      67.84     68          0  \n",
       "43             Balsam-apple      51.48     68          0  \n",
       "44                       ND       1.76     36          0  \n",
       "45                       ND       2.96     20          0  \n",
       "46                       ND       4.42     23          0  \n",
       "47         Flowering banana      18.40     47          0  \n",
       "48                       ND      33.70     33          0  \n",
       "49                   Niruri      41.17     24          0  \n",
       "50         Christmas-candle      52.07     71          1  \n",
       "51           Creeping oxeye      42.45     89          1  \n",
       "52           Creeping oxeye      97.07     83          1  \n",
       "53           Creeping oxeye      31.75     83          1  \n",
       "54             Norfolk palm       3.19     27          0  \n",
       "55        Manchurian walnut       8.50     31          0  \n",
       "56                       ND       7.38     75          1  \n",
       "57                       ND       0.00      0          0  \n",
       "58                       ND      88.31     80          1  \n",
       "59                       ND      47.13     80          1  "
      ],
      "text/html": "<div>\n<style scoped>\n    .dataframe tbody tr th:only-of-type {\n        vertical-align: middle;\n    }\n\n    .dataframe tbody tr th {\n        vertical-align: top;\n    }\n\n    .dataframe thead th {\n        text-align: right;\n    }\n</style>\n<table border=\"1\" class=\"dataframe\">\n  <thead>\n    <tr style=\"text-align: right;\">\n      <th></th>\n      <th>Foto</th>\n      <th>Nombre_cientifico</th>\n      <th>Familia</th>\n      <th>Nombre_comun</th>\n      <th>Precision</th>\n      <th>Ratio</th>\n      <th>Similitud</th>\n    </tr>\n  </thead>\n  <tbody>\n    <tr>\n      <th>0</th>\n      <td>Alibertia edulis.jpg</td>\n      <td>Psidium friedrichsthalianum (O.Berg) Nied.</td>\n      <td>Myrtaceae</td>\n      <td>Costa Rican guava</td>\n      <td>4.30</td>\n      <td>39</td>\n      <td>0</td>\n    </tr>\n    <tr>\n      <th>1</th>\n      <td>Alibertia edulis_1.jpg</td>\n      <td>Tabernaemontana pandacaqui Lam.</td>\n      <td>Apocynaceae</td>\n      <td>Dogbane</td>\n      <td>4.22</td>\n      <td>33</td>\n      <td>0</td>\n    </tr>\n    <tr>\n      <th>2</th>\n      <td>Alibertia edulis_2.jpg</td>\n      <td>Epimedium brevicornu Maxim.</td>\n      <td>Berberidaceae</td>\n      <td>ND</td>\n      <td>1.93</td>\n      <td>27</td>\n      <td>0</td>\n    </tr>\n    <tr>\n      <th>3</th>\n      <td>Andira inermis.jpg</td>\n      <td>Machaerium biovulatum Micheli</td>\n      <td>Leguminosae</td>\n      <td>ND</td>\n      <td>4.35</td>\n      <td>33</td>\n      <td>0</td>\n    </tr>\n    <tr>\n      <th>4</th>\n      <td>Andira inermis_1.jpg</td>\n      <td>Meliosma pinnata (Roxb.) Maxim.</td>\n      <td>Sabiaceae</td>\n      <td>ND</td>\n      <td>5.42</td>\n      <td>30</td>\n      <td>0</td>\n    </tr>\n    <tr>\n      <th>5</th>\n      <td>Andira inermis_2.jpg</td>\n      <td>Lomariopsis japurensis (Mart.) J. Sm.</td>\n      <td>Lomariopsidaceae</td>\n      <td>ND</td>\n      <td>13.02</td>\n      <td>25</td>\n      <td>0</td>\n    </tr>\n    <tr>\n      <th>6</th>\n      <td>Aphelandra scabra.jpg</td>\n      <td>Rhagodia parabolica R. Br.</td>\n      <td>Amaranthaceae</td>\n      <td>ND</td>\n      <td>4.67</td>\n      <td>42</td>\n      <td>0</td>\n    </tr>\n    <tr>\n      <th>7</th>\n      <td>Aphelandra scabra_1.jpg</td>\n      <td>Aphelandra scabra (Vahl) Sm.</td>\n      <td>Acanthaceae</td>\n      <td>ND</td>\n      <td>17.18</td>\n      <td>74</td>\n      <td>1</td>\n    </tr>\n    <tr>\n      <th>8</th>\n      <td>Aphelandra scabra_2.jpg</td>\n      <td>Aphelandra scabra (Vahl) Sm.</td>\n      <td>Acanthaceae</td>\n      <td>ND</td>\n      <td>4.07</td>\n      <td>74</td>\n      <td>1</td>\n    </tr>\n    <tr>\n      <th>9</th>\n      <td>Aspidosperma spruceanum.jpg</td>\n      <td>Acacia mangium Willd.</td>\n      <td>Leguminosae</td>\n      <td>Black wattle</td>\n      <td>1.13</td>\n      <td>38</td>\n      <td>0</td>\n    </tr>\n    <tr>\n      <th>10</th>\n      <td>Aspidosperma spruceanum_1.jpg</td>\n      <td>Pouteria sapota (Jacq.) H.E.Moore &amp; Stearn</td>\n      <td>Sapotaceae</td>\n      <td>Mamey sapote</td>\n      <td>20.03</td>\n      <td>31</td>\n      <td>0</td>\n    </tr>\n    <tr>\n      <th>11</th>\n      <td>Aspidosperma spruceanum_2.jpg</td>\n      <td>Pouteria sapota (Jacq.) H.E.Moore &amp; Stearn</td>\n      <td>Sapotaceae</td>\n      <td>Mamey sapote</td>\n      <td>9.16</td>\n      <td>31</td>\n      <td>0</td>\n    </tr>\n    <tr>\n      <th>12</th>\n      <td>Asystasia gangetica.jpg</td>\n      <td>Asystasia gangetica (L.) T.Anderson</td>\n      <td>Acanthaceae</td>\n      <td>Chinese violet</td>\n      <td>94.63</td>\n      <td>87</td>\n      <td>1</td>\n    </tr>\n    <tr>\n      <th>13</th>\n      <td>Asystasia gangetica_1.jpg</td>\n      <td>Asystasia gangetica (L.) T.Anderson</td>\n      <td>Acanthaceae</td>\n      <td>Chinese violet</td>\n      <td>16.93</td>\n      <td>80</td>\n      <td>1</td>\n    </tr>\n    <tr>\n      <th>14</th>\n      <td>Asystasia gangetica_2.jpg</td>\n      <td>Brunfelsia americana L.</td>\n      <td>Solanaceae</td>\n      <td>Lady-of-the-night</td>\n      <td>26.47</td>\n      <td>43</td>\n      <td>0</td>\n    </tr>\n    <tr>\n      <th>15</th>\n      <td>Caesalpinia pulcherrima.jpg</td>\n      <td>Caesalpinia pulcherrima (L.) Sw.</td>\n      <td>Leguminosae</td>\n      <td>Dwarf poinciana</td>\n      <td>24.89</td>\n      <td>89</td>\n      <td>1</td>\n    </tr>\n    <tr>\n      <th>16</th>\n      <td>Caesalpinia pulcherrima_1.jpg</td>\n      <td>Habenaria rhodocheila Hance</td>\n      <td>Orchidaceae</td>\n      <td>Little Dragon</td>\n      <td>27.09</td>\n      <td>41</td>\n      <td>0</td>\n    </tr>\n    <tr>\n      <th>17</th>\n      <td>Caesalpinia pulcherrima_2.jpg</td>\n      <td>Caesalpinia pulcherrima (L.) Sw.</td>\n      <td>Leguminosae</td>\n      <td>Dwarf poinciana</td>\n      <td>26.32</td>\n      <td>83</td>\n      <td>1</td>\n    </tr>\n    <tr>\n      <th>18</th>\n      <td>Caladium bicolor.jpg</td>\n      <td>Caladium bicolor (Aiton) Vent.</td>\n      <td>Araceae</td>\n      <td>Heart-of-Jesus</td>\n      <td>40.57</td>\n      <td>80</td>\n      <td>1</td>\n    </tr>\n    <tr>\n      <th>19</th>\n      <td>Caladium bicolor_1.jpg</td>\n      <td>Smilax pumila Walter</td>\n      <td>Smilacaceae</td>\n      <td>Sarsaparilla-vine</td>\n      <td>6.15</td>\n      <td>35</td>\n      <td>0</td>\n    </tr>\n    <tr>\n      <th>20</th>\n      <td>Caladium bicolor_2.jpg</td>\n      <td>Caladium lindenii (André) Madison</td>\n      <td>Araceae</td>\n      <td>Indian-kale</td>\n      <td>10.82</td>\n      <td>45</td>\n      <td>0</td>\n    </tr>\n    <tr>\n      <th>21</th>\n      <td>Clavija biborrana.jpg</td>\n      <td>Clavija biborrana Oerst.</td>\n      <td>Primulaceae</td>\n      <td>ND</td>\n      <td>56.39</td>\n      <td>81</td>\n      <td>1</td>\n    </tr>\n    <tr>\n      <th>22</th>\n      <td>Clavija biborrana_1.jpg</td>\n      <td>Vantanea parviflora Lam.</td>\n      <td>Humiriaceae</td>\n      <td>ND</td>\n      <td>13.63</td>\n      <td>37</td>\n      <td>0</td>\n    </tr>\n    <tr>\n      <th>23</th>\n      <td>Clavija biborrana_2.jpg</td>\n      <td>Garcinia madruno (Kunth) Hammel</td>\n      <td>Clusiaceae</td>\n      <td>Lemon Drop Mangosteen</td>\n      <td>32.59</td>\n      <td>26</td>\n      <td>0</td>\n    </tr>\n    <tr>\n      <th>24</th>\n      <td>Cocos nucifera.jpg</td>\n      <td>Cocos nucifera L.</td>\n      <td>Arecaceae</td>\n      <td>Coconut</td>\n      <td>41.83</td>\n      <td>88</td>\n      <td>1</td>\n    </tr>\n    <tr>\n      <th>25</th>\n      <td>Cocos nucifera_1.jpg</td>\n      <td>Cocos nucifera L.</td>\n      <td>Arecaceae</td>\n      <td>Coconut</td>\n      <td>10.78</td>\n      <td>88</td>\n      <td>1</td>\n    </tr>\n    <tr>\n      <th>26</th>\n      <td>Cocos nucifera_2.jpg</td>\n      <td>ND</td>\n      <td>ND</td>\n      <td>ND</td>\n      <td>0.00</td>\n      <td>0</td>\n      <td>0</td>\n    </tr>\n    <tr>\n      <th>27</th>\n      <td>Drymonia coriacea.jpg</td>\n      <td>Drymonia coriacea (Oerst. ex Hanst.) Wiehler</td>\n      <td>Gesneriaceae</td>\n      <td>ND</td>\n      <td>18.32</td>\n      <td>81</td>\n      <td>1</td>\n    </tr>\n    <tr>\n      <th>28</th>\n      <td>Drymonia coriacea_1.jpg</td>\n      <td>Streblus asper Lour.</td>\n      <td>Moraceae</td>\n      <td>Siamese rough-bush</td>\n      <td>3.44</td>\n      <td>24</td>\n      <td>0</td>\n    </tr>\n    <tr>\n      <th>29</th>\n      <td>Drymonia coriacea_2.jpg</td>\n      <td>Drymonia alloplectoides Hanst.</td>\n      <td>Gesneriaceae</td>\n      <td>ND</td>\n      <td>22.66</td>\n      <td>57</td>\n      <td>0</td>\n    </tr>\n    <tr>\n      <th>30</th>\n      <td>Hamelia patens.jpg</td>\n      <td>Hamelia patens Jacq.</td>\n      <td>Rubiaceae</td>\n      <td>Redhead</td>\n      <td>98.14</td>\n      <td>78</td>\n      <td>1</td>\n    </tr>\n    <tr>\n      <th>31</th>\n      <td>Hamelia patens_1.jpg</td>\n      <td>Hamelia patens Jacq.</td>\n      <td>Rubiaceae</td>\n      <td>Redhead</td>\n      <td>41.15</td>\n      <td>75</td>\n      <td>1</td>\n    </tr>\n    <tr>\n      <th>32</th>\n      <td>Hamelia patens_2.jpg</td>\n      <td>Hamelia patens Jacq.</td>\n      <td>Rubiaceae</td>\n      <td>Redhead</td>\n      <td>34.06</td>\n      <td>75</td>\n      <td>1</td>\n    </tr>\n    <tr>\n      <th>33</th>\n      <td>Heliconia latispatha.jpg</td>\n      <td>Heliconia latispatha Benth.</td>\n      <td>Heliconiaceae</td>\n      <td>Expanded lobsterclaw</td>\n      <td>38.72</td>\n      <td>83</td>\n      <td>1</td>\n    </tr>\n    <tr>\n      <th>34</th>\n      <td>Heliconia latispatha_1.jpg</td>\n      <td>Heliconia latispatha Benth.</td>\n      <td>Heliconiaceae</td>\n      <td>Expanded lobsterclaw</td>\n      <td>26.75</td>\n      <td>77</td>\n      <td>1</td>\n    </tr>\n    <tr>\n      <th>35</th>\n      <td>Heliconia latispatha_2.jpg</td>\n      <td>Heliconia latispatha Benth.</td>\n      <td>Heliconiaceae</td>\n      <td>Expanded lobsterclaw</td>\n      <td>62.47</td>\n      <td>77</td>\n      <td>1</td>\n    </tr>\n    <tr>\n      <th>36</th>\n      <td>Heliconia psittacorum.jpg</td>\n      <td>Canna tuerckheimii Kraenzl.</td>\n      <td>Cannaceae</td>\n      <td>Maraca roja</td>\n      <td>6.42</td>\n      <td>24</td>\n      <td>0</td>\n    </tr>\n    <tr>\n      <th>37</th>\n      <td>Heliconia psittacorum_1.jpg</td>\n      <td>Heliconia densiflora Verl.</td>\n      <td>Heliconiaceae</td>\n      <td>ND</td>\n      <td>18.38</td>\n      <td>58</td>\n      <td>0</td>\n    </tr>\n    <tr>\n      <th>38</th>\n      <td>Heliconia psittacorum_2.jpg</td>\n      <td>Heliconia hirsuta L.f.</td>\n      <td>Heliconiaceae</td>\n      <td>ND</td>\n      <td>59.34</td>\n      <td>59</td>\n      <td>0</td>\n    </tr>\n    <tr>\n      <th>39</th>\n      <td>Ipomoea cairica.jpg</td>\n      <td>Ipomoea cairica (L.) Sweet</td>\n      <td>Convolvulaceae</td>\n      <td>Railroad-creeper</td>\n      <td>24.04</td>\n      <td>84</td>\n      <td>1</td>\n    </tr>\n    <tr>\n      <th>40</th>\n      <td>Ipomoea cairica_1.jpg</td>\n      <td>Ipomoea cairica (L.) Sweet</td>\n      <td>Convolvulaceae</td>\n      <td>Railroad-creeper</td>\n      <td>19.69</td>\n      <td>76</td>\n      <td>1</td>\n    </tr>\n    <tr>\n      <th>41</th>\n      <td>Ipomoea cairica_2.jpg</td>\n      <td>Ipomoea sagittata Poir.</td>\n      <td>Convolvulaceae</td>\n      <td>Saltmarsh morning-glory</td>\n      <td>11.76</td>\n      <td>52</td>\n      <td>0</td>\n    </tr>\n    <tr>\n      <th>42</th>\n      <td>Momordica charantia.jpg</td>\n      <td>Momordica balsamina L.</td>\n      <td>Cucurbitaceae</td>\n      <td>Balsam-apple</td>\n      <td>67.84</td>\n      <td>68</td>\n      <td>0</td>\n    </tr>\n    <tr>\n      <th>43</th>\n      <td>Momordica charantia_1.jpg</td>\n      <td>Momordica balsamina L.</td>\n      <td>Cucurbitaceae</td>\n      <td>Balsam-apple</td>\n      <td>51.48</td>\n      <td>68</td>\n      <td>0</td>\n    </tr>\n    <tr>\n      <th>44</th>\n      <td>Momordica charantia_2.jpg</td>\n      <td>Anthyllis alpestris (Schult.) Kit.</td>\n      <td>Leguminosae</td>\n      <td>ND</td>\n      <td>1.76</td>\n      <td>36</td>\n      <td>0</td>\n    </tr>\n    <tr>\n      <th>45</th>\n      <td>Musa paradisiaca.jpg</td>\n      <td>Tecophilaea violiflora Bertero ex Colla</td>\n      <td>Tecophilaeaceae</td>\n      <td>ND</td>\n      <td>2.96</td>\n      <td>20</td>\n      <td>0</td>\n    </tr>\n    <tr>\n      <th>46</th>\n      <td>Musa paradisiaca_1.jpg</td>\n      <td>Arthropodium cirrhatum (G.Forst.) R.Br.</td>\n      <td>Asparagaceae</td>\n      <td>ND</td>\n      <td>4.42</td>\n      <td>23</td>\n      <td>0</td>\n    </tr>\n    <tr>\n      <th>47</th>\n      <td>Musa paradisiaca_2.jpg</td>\n      <td>Musa ornata Roxb.</td>\n      <td>Musaceae</td>\n      <td>Flowering banana</td>\n      <td>18.40</td>\n      <td>47</td>\n      <td>0</td>\n    </tr>\n    <tr>\n      <th>48</th>\n      <td>Senna alata.jpg</td>\n      <td>Parkinsonia praecox (Ruiz &amp; Pav.) Hawkins</td>\n      <td>Leguminosae</td>\n      <td>ND</td>\n      <td>33.70</td>\n      <td>33</td>\n      <td>0</td>\n    </tr>\n    <tr>\n      <th>49</th>\n      <td>Senna alata_1.jpg</td>\n      <td>Phyllanthus niruri L.</td>\n      <td>Phyllanthaceae</td>\n      <td>Niruri</td>\n      <td>41.17</td>\n      <td>24</td>\n      <td>0</td>\n    </tr>\n    <tr>\n      <th>50</th>\n      <td>Senna alata_2.jpg</td>\n      <td>Senna alata (L.) Roxb.</td>\n      <td>Leguminosae</td>\n      <td>Christmas-candle</td>\n      <td>52.07</td>\n      <td>71</td>\n      <td>1</td>\n    </tr>\n    <tr>\n      <th>51</th>\n      <td>Sphagneticola trilobata.jpg</td>\n      <td>Sphagneticola trilobata (L.) Pruski</td>\n      <td>Compositae</td>\n      <td>Creeping oxeye</td>\n      <td>42.45</td>\n      <td>89</td>\n      <td>1</td>\n    </tr>\n    <tr>\n      <th>52</th>\n      <td>Sphagneticola trilobata_1.jpg</td>\n      <td>Sphagneticola trilobata (L.) Pruski</td>\n      <td>Compositae</td>\n      <td>Creeping oxeye</td>\n      <td>97.07</td>\n      <td>83</td>\n      <td>1</td>\n    </tr>\n    <tr>\n      <th>53</th>\n      <td>Sphagneticola trilobata_2.jpg</td>\n      <td>Sphagneticola trilobata (L.) Pruski</td>\n      <td>Compositae</td>\n      <td>Creeping oxeye</td>\n      <td>31.75</td>\n      <td>83</td>\n      <td>1</td>\n    </tr>\n    <tr>\n      <th>54</th>\n      <td>Vismia macrophylla.jpg</td>\n      <td>Rhopalostylis baueri (Hook.f.) H.Wendl. &amp; Drude</td>\n      <td>Arecaceae</td>\n      <td>Norfolk palm</td>\n      <td>3.19</td>\n      <td>27</td>\n      <td>0</td>\n    </tr>\n    <tr>\n      <th>55</th>\n      <td>Vismia macrophylla_1.jpg</td>\n      <td>Juglans mandshurica Maxim.</td>\n      <td>Juglandaceae</td>\n      <td>Manchurian walnut</td>\n      <td>8.50</td>\n      <td>31</td>\n      <td>0</td>\n    </tr>\n    <tr>\n      <th>56</th>\n      <td>Vismia macrophylla_2.jpg</td>\n      <td>Vismia macrophylla Kunth</td>\n      <td>Hypericaceae</td>\n      <td>ND</td>\n      <td>7.38</td>\n      <td>75</td>\n      <td>1</td>\n    </tr>\n    <tr>\n      <th>57</th>\n      <td>Xiphidium caeruleum.jpg</td>\n      <td>ND</td>\n      <td>ND</td>\n      <td>ND</td>\n      <td>0.00</td>\n      <td>0</td>\n      <td>0</td>\n    </tr>\n    <tr>\n      <th>58</th>\n      <td>Xiphidium caeruleum_1.jpg</td>\n      <td>Xiphidium caeruleum Aubl.</td>\n      <td>Haemodoraceae</td>\n      <td>ND</td>\n      <td>88.31</td>\n      <td>80</td>\n      <td>1</td>\n    </tr>\n    <tr>\n      <th>59</th>\n      <td>Xiphidium caeruleum_2.jpg</td>\n      <td>Xiphidium caeruleum Aubl.</td>\n      <td>Haemodoraceae</td>\n      <td>ND</td>\n      <td>47.13</td>\n      <td>80</td>\n      <td>1</td>\n    </tr>\n  </tbody>\n</table>\n</div>"
     },
     "metadata": {},
     "execution_count": 66
    }
   ],
   "source": [
    "df"
   ]
  },
  {
   "cell_type": "markdown",
   "metadata": {
    "id": "MikCsiwlmPz9"
   },
   "source": [
    "Por último, con el fin de evaluar en términos globales la precisión que se obtuvo con la puesta a prueba de esta app, se aplican estadísticas descriptivas a las columnas 'Precision','Ratio' y 'Similitud', las cuales se presentan a continuación:<br>"
   ]
  },
  {
   "cell_type": "code",
   "execution_count": 67,
   "metadata": {
    "id": "-BK8MGbjmPz-",
    "outputId": "62ac5bcd-6c87-4ce2-e45e-afe5275a027b"
   },
   "outputs": [
    {
     "output_type": "execute_result",
     "data": {
      "text/plain": [
       "count    60.000000\n",
       "mean     26.724833\n",
       "std      25.487973\n",
       "min       0.000000\n",
       "25%       5.967500\n",
       "50%      19.045000\n",
       "75%      40.715000\n",
       "max      98.140000\n",
       "Name: Precision, dtype: float64"
      ]
     },
     "metadata": {},
     "execution_count": 67
    }
   ],
   "source": [
    "df['Precision'].describe()"
   ]
  },
  {
   "cell_type": "code",
   "execution_count": 68,
   "metadata": {},
   "outputs": [
    {
     "output_type": "execute_result",
     "data": {
      "text/plain": [
       "count    60.000000\n",
       "mean     54.966667\n",
       "std      25.522982\n",
       "min       0.000000\n",
       "25%      32.500000\n",
       "50%      57.500000\n",
       "75%      80.000000\n",
       "max      89.000000\n",
       "Name: Ratio, dtype: float64"
      ]
     },
     "metadata": {},
     "execution_count": 68
    }
   ],
   "source": [
    "df['Ratio'].describe()"
   ]
  },
  {
   "cell_type": "code",
   "execution_count": 70,
   "metadata": {},
   "outputs": [
    {
     "output_type": "execute_result",
     "data": {
      "text/plain": [
       "0    34\n",
       "1    26\n",
       "Name: Similitud, dtype: int64"
      ]
     },
     "metadata": {},
     "execution_count": 70
    }
   ],
   "source": [
    "df['Similitud'].value_counts()"
   ]
  },
  {
   "cell_type": "markdown",
   "metadata": {
    "id": "svIprU7lmPz_"
   },
   "source": [
    "De estas estadísticas se puede observar que se evaluaron 60 fotografías de 20 especies diferentes en las cuales se obtuvo una precision promedio de 26%, siendo 0% la precision mínima  y 98% la máxima, tal y como es es posible apreciar en la tabla de resultados. Respecto al ratio en el que se comparan los nombres científicos de la fuente y el resultado de la identificación se tiene un promedio de 54%, siendo el mínimo logrado en 0% y 89% el máximo. Por último, respecto de lo que se podría llamar peso de similitud entre fuente y resultados se logró una cantidad de 26 fotografías con identificación precisa o casi precisa y 34 fotografías en las que no se logró la optima identificación, de modo tal que la evaluación obtenida muestra cantidades similares entre los aciertos y desaciertos, siendo este último el que obtuvo una mayor cantidad desafortunadamente.<br>\n",
    "<p>Por tanto, se puede concluir que, aunque la herramienta de PlantNet posee un gran potencial en la identificación de especies, aun falta por mejorar en cuanto a su grado de certeza, aunque es importante reconocer que también la calidad de las fotografías para la evaluación no siempre es la más adecuada y por ende pueden desfavorecer la funcionalidad de la app aquí evaluada, por lo que sería importante destacar esto al inicio del uso de la app.<br>"
   ]
  },
  {
   "cell_type": "markdown",
   "metadata": {
    "id": "uOCnvrFZmPz_"
   },
   "source": [
    "## Fuentes: \n",
    "\n",
    "- https://api.gbif.org/v1/occurrence/\n",
    "- http://eol.org/api/\n",
    "- https://identify.plantnet.org/\n",
    "- https://selenium-python.readthedocs.io/"
   ]
  }
 ],
 "metadata": {
  "colab": {
   "collapsed_sections": [],
   "name": "tarea_4.ipynb",
   "provenance": []
  },
  "kernelspec": {
   "name": "python394jvsc74a57bd063fd5069d213b44bf678585dea6b12cceca9941eaf7f819626cde1f2670de90d",
   "display_name": "Python 3.9.4 64-bit"
  },
  "language_info": {
   "codemirror_mode": {
    "name": "ipython",
    "version": 3
   },
   "file_extension": ".py",
   "mimetype": "text/x-python",
   "name": "python",
   "nbconvert_exporter": "python",
   "pygments_lexer": "ipython3",
   "version": "3.9.4"
  },
  "metadata": {
   "interpreter": {
    "hash": "63fd5069d213b44bf678585dea6b12cceca9941eaf7f819626cde1f2670de90d"
   }
  }
 },
 "nbformat": 4,
 "nbformat_minor": 4
}